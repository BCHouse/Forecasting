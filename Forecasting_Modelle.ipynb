{
  "nbformat": 4,
  "nbformat_minor": 0,
  "metadata": {
    "colab": {
      "name": "Forecasting_Modelle.ipynb",
      "provenance": [],
      "collapsed_sections": []
    },
    "kernelspec": {
      "name": "python3",
      "display_name": "Python 3"
    },
    "language_info": {
      "name": "python"
    }
  },
  "cells": [
    {
      "cell_type": "code",
      "source": [
        "#!pip install statsmodels --upgrade"
      ],
      "metadata": {
        "id": "U1f5ovgHAfG9"
      },
      "execution_count": null,
      "outputs": []
    },
    {
      "cell_type": "code",
      "source": [
        "from google.colab import drive\n",
        "drive.mount('/content/drive')"
      ],
      "metadata": {
        "colab": {
          "base_uri": "https://localhost:8080/"
        },
        "id": "QsiLao6OBDmQ",
        "outputId": "03f446ca-5ed7-4006-db4f-1c554f94e861"
      },
      "execution_count": null,
      "outputs": [
        {
          "output_type": "stream",
          "name": "stdout",
          "text": [
            "Mounted at /content/drive\n"
          ]
        }
      ]
    },
    {
      "cell_type": "code",
      "source": [
        ""
      ],
      "metadata": {
        "id": "37ZiNvmHLDKp"
      },
      "execution_count": null,
      "outputs": []
    },
    {
      "cell_type": "code",
      "source": [
        ""
      ],
      "metadata": {
        "id": "kSCPaqZLLDNw"
      },
      "execution_count": null,
      "outputs": []
    },
    {
      "cell_type": "markdown",
      "source": [
        "# Autoregression (AR)"
      ],
      "metadata": {
        "id": "0853F3RZ_10w"
      }
    },
    {
      "cell_type": "markdown",
      "source": [
        "Autoregressionsmethode (AR) modelliert den nächsten Schritt in der Sequence als eine lineare Funktion der Beobachtungen in den früheren Zeitschritten \n",
        "\n",
        "Die Notation des Modells beinhaltet die Angabe der Ordnung des Modells p als Parameter der AR-Funktion, z.B. AR(p). --> AR(1) ist eine Autoregressionsmodell erster Ordnung \n",
        "\n",
        "Diese Methode ist für univariate Zeitreihen ohne Trend und saisonale Komponenten geeignet"
      ],
      "metadata": {
        "id": "YbyhTBHtBRe8"
      }
    },
    {
      "cell_type": "code",
      "source": [
        "from statsmodels.tsa.ar_model import AutoReg\n",
        "from random import random\n",
        "# Konstruierter Datensatz\n",
        "data = [x + random() for x in range(1, 100)]\n",
        "\n",
        "model = AutoReg(data, lags=1)\n",
        "model_fit = model.fit()\n",
        "\n",
        "# Vorhersage machen\n",
        "yhat = model_fit.predict(len(data), len(data))\n",
        "print(yhat)"
      ],
      "metadata": {
        "colab": {
          "base_uri": "https://localhost:8080/"
        },
        "id": "feOLkVcD_30o",
        "outputId": "a2713605-5583-44c8-ad8d-586347caa251"
      },
      "execution_count": null,
      "outputs": [
        {
          "output_type": "stream",
          "name": "stdout",
          "text": [
            "[100.25780491]\n"
          ]
        }
      ]
    },
    {
      "cell_type": "code",
      "source": [
        ""
      ],
      "metadata": {
        "id": "RH6473keCBck"
      },
      "execution_count": null,
      "outputs": []
    },
    {
      "cell_type": "code",
      "source": [
        ""
      ],
      "metadata": {
        "id": "7sjqBC6A__KZ"
      },
      "execution_count": null,
      "outputs": []
    },
    {
      "cell_type": "markdown",
      "source": [
        "# Moving Average (MA)"
      ],
      "metadata": {
        "id": "rUJvqrLcCMrU"
      }
    },
    {
      "cell_type": "markdown",
      "source": [
        "Die Methode modelliert den nächsten Schritt in der Sequenz als eine lineare Funktion der RSE (Residual Standard Error) eines mittleren Prozesses bei früheren Zeitschritten \n",
        "\n",
        "Die Notation des Modells beinhaltet die Angabe der Ordnung des Modells q als Parameter der MA-Funktion, z.B. MA(q). MA(1) wäre ein Modell moving average erster Ordnung\n",
        "\n",
        "Die Methode ist für univariate Zeitreihen ohne Trend und saisonale Komponenten geeignet "
      ],
      "metadata": {
        "id": "QxE_l6GaCQon"
      }
    },
    {
      "cell_type": "code",
      "source": [
        "# MA beispiel\n",
        "from statsmodels.tsa.arima.model import ARIMA\n",
        "from random import random\n",
        "\n",
        "data = [x + random() for x in range(1, 100)]\n",
        "\n",
        "model = ARIMA(data, order=(0, 0, 1))\n",
        "model_fit = model.fit()\n",
        "\n",
        "yhat = model_fit.predict(len(data), len(data))\n",
        "print(yhat)"
      ],
      "metadata": {
        "colab": {
          "base_uri": "https://localhost:8080/"
        },
        "id": "x_d3ulzsCPmv",
        "outputId": "bafb4369-7da1-4ba7-d15e-062467ced10a"
      },
      "execution_count": null,
      "outputs": [
        {
          "output_type": "stream",
          "name": "stdout",
          "text": [
            "[71.62144369]\n"
          ]
        }
      ]
    },
    {
      "cell_type": "code",
      "source": [
        ""
      ],
      "metadata": {
        "id": "5SjTRiKAEcHN"
      },
      "execution_count": null,
      "outputs": []
    },
    {
      "cell_type": "code",
      "source": [
        ""
      ],
      "metadata": {
        "id": "FZuTpnYg_8s2"
      },
      "execution_count": null,
      "outputs": []
    },
    {
      "cell_type": "code",
      "source": [
        ""
      ],
      "metadata": {
        "id": "yoQloluREfpM"
      },
      "execution_count": null,
      "outputs": []
    },
    {
      "cell_type": "markdown",
      "source": [
        "# Autoregressive Moving Average (ARMA)"
      ],
      "metadata": {
        "id": "yjMap_B5EgBv"
      }
    },
    {
      "cell_type": "markdown",
      "source": [
        "Autoregressive Modelle der gleitenden Mittel sind lineare zeitdiskrete Modelle. Modelliert den nächsten Schritt in der Sequenz als lineare Funktion der Beobachtungen \n",
        "\n",
        "Werden in BOX-JENKINS-METHODE behandelt.\n",
        "\n",
        "Als wichtigste Anwendung gilt die \"kurzfristige Vorhersage\" \n",
        "\n",
        "Die Notation des Modells beinhaltet die Angabe der Reihenfolge für die AR(p) - und ARMA(p,q). Ein ARIMA-Modell kann verwendet werden, um AR- oder MA-Modelle zu entwickeln \n",
        "\n",
        "Die Methode ist für univariate Zeitreihen ohne Trend und saisonalen Komponenten geeignet"
      ],
      "metadata": {
        "id": "MAxvXUtcEktP"
      }
    },
    {
      "cell_type": "code",
      "source": [
        "from statsmodels.tsa.arima.model import ARIMA\n",
        "from random import random\n",
        "# contrived dataset\n",
        "data = [random() for x in range(1, 100)]\n",
        "# fit model\n",
        "model = ARIMA(data, order=(2, 0, 1))\n",
        "model_fit = model.fit()\n",
        "# make prediction\n",
        "yhat = model_fit.predict(len(data), len(data))\n",
        "print(yhat)"
      ],
      "metadata": {
        "colab": {
          "base_uri": "https://localhost:8080/"
        },
        "id": "PoEMKvdnFrav",
        "outputId": "236259a1-7a20-4e7e-f395-d8359585ff9a"
      },
      "execution_count": null,
      "outputs": [
        {
          "output_type": "stream",
          "name": "stdout",
          "text": [
            "[0.51023099]\n"
          ]
        }
      ]
    },
    {
      "cell_type": "code",
      "source": [
        ""
      ],
      "metadata": {
        "id": "Z2Z0XPfPFv5m"
      },
      "execution_count": null,
      "outputs": []
    },
    {
      "cell_type": "code",
      "source": [
        ""
      ],
      "metadata": {
        "id": "vkVNhIFjGe3h"
      },
      "execution_count": null,
      "outputs": []
    },
    {
      "cell_type": "code",
      "source": [
        ""
      ],
      "metadata": {
        "id": "xAnamdlVGe6q"
      },
      "execution_count": null,
      "outputs": []
    },
    {
      "cell_type": "markdown",
      "source": [
        "# Autoregressive Integrated Moving Average (ARIMA)"
      ],
      "metadata": {
        "id": "xM82COMnGfUs"
      }
    },
    {
      "cell_type": "markdown",
      "source": [
        "In ARIMA Modelle werden autoregressive Prozesse mit Moving Average (MA)- Prozessen kombiniert. Autoregressive (AR)- Modelle führen Beobachtungen zum Zeitpunkt nur auf die vergangenen Beobachtungen zurück. \n",
        "\n",
        "Modellklasse, die den autoregressiven Teil und den gleitenden Mittelwertbeitrag des ARMA Modells um die Differenzierung und Integration (I) zur Trendbeseitigung und Herstellung der Stationarität erweitert\n",
        "\n",
        "Die Notation des Models beinhaltet die Angabe der Reihenfolge für die Modelle AR(p), I(d) und MA(q) als Parameter für eine ARIMA Funktion, z.B. ARIMA(p,d,q). Ein ARIMA Modell kann auch verwendet werden, um AR-, MA- und ARMA Modelle zu entwickeln\n",
        "\n",
        "Die Methode ist für univariate Zeitreihen mit Trend und ohne saisonale Komponenten geeignet\n"
      ],
      "metadata": {
        "id": "D7rxX-cTGkWl"
      }
    },
    {
      "cell_type": "code",
      "source": [
        "# ARIMA Beispie\n",
        "from statsmodels.tsa.arima.model import ARIMA\n",
        "from random import random\n",
        "\n",
        "data = [x + random() for x in range(1, 100)]\n",
        "\n",
        "model = ARIMA(data, order=(1, 1, 1))\n",
        "model_fit = model.fit()\n",
        "\n",
        "yhat = model_fit.predict(len(data), len(data), typ='levels')\n",
        "print(yhat)"
      ],
      "metadata": {
        "colab": {
          "base_uri": "https://localhost:8080/"
        },
        "id": "xJfE4KJoIBoO",
        "outputId": "ce50db34-ddff-49bd-b959-52581fc73370"
      },
      "execution_count": null,
      "outputs": [
        {
          "output_type": "stream",
          "name": "stderr",
          "text": [
            "/usr/local/lib/python3.7/dist-packages/statsmodels/tsa/statespace/sarimax.py:966: UserWarning: Non-stationary starting autoregressive parameters found. Using zeros as starting parameters.\n",
            "  warn('Non-stationary starting autoregressive parameters'\n",
            "/usr/local/lib/python3.7/dist-packages/statsmodels/tsa/statespace/sarimax.py:978: UserWarning: Non-invertible starting MA parameters found. Using zeros as starting parameters.\n",
            "  warn('Non-invertible starting MA parameters found.'\n"
          ]
        },
        {
          "output_type": "stream",
          "name": "stdout",
          "text": [
            "[100.09774471]\n"
          ]
        }
      ]
    },
    {
      "cell_type": "code",
      "source": [
        ""
      ],
      "metadata": {
        "id": "w6pTuByCIM-o"
      },
      "execution_count": null,
      "outputs": []
    },
    {
      "cell_type": "code",
      "source": [
        ""
      ],
      "metadata": {
        "id": "K-yIzhG7GjuE"
      },
      "execution_count": null,
      "outputs": []
    },
    {
      "cell_type": "code",
      "source": [
        ""
      ],
      "metadata": {
        "id": "PImhwRM5IXel"
      },
      "execution_count": null,
      "outputs": []
    },
    {
      "cell_type": "markdown",
      "source": [
        "# Seasonal Autoregressive Integrated Moving-Average (SARIMA)"
      ],
      "metadata": {
        "id": "oeJqUEogIYC3"
      }
    },
    {
      "cell_type": "markdown",
      "source": [
        "Modelliert den nächsten Schritt in der Sequenz als lineare Funktion der differenzierten Beobachtungen, Fehler, der differenzierten saisonalen Beobachtungen und der saisonalen Fehler der vorherigen Zeitschritte\n",
        "\n",
        "Erweitert die Anwendung des ARIMA-Modells auf die Anwendung der saisonalen Ebenen \n",
        "\n",
        "Die Notation beinhaltet die Angabe der Reihenfolge für die Modelle AR(p), I(d) und MA(q) als Parameter für eine ARIMA-Funktion und AR(P), I(D), MA(Q) und m Parameter auf saisonaler Ebene. z.B. SARIMA(p,d,q)(P,D,Q)m, wobei \"m\" die Anzahl der Zeitschritte in jeder Saison ist. Ein SARIMA-Modell kann zur Entwicklung von AR-, MA-, ARMA- und ARIMA-Modelle verwendet werden \n",
        "\n",
        "Methode eignet sich für univariate Zeitreihen mit Trend und/oder saisonalen Komponenten "
      ],
      "metadata": {
        "id": "l0ZPxivMIdiv"
      }
    },
    {
      "cell_type": "code",
      "source": [
        "from statsmodels.tsa.statespace.sarimax import SARIMAX\n",
        "from random import random\n",
        "\n",
        "data = [x + random() for x in range(1, 100)]\n",
        "\n",
        "model = SARIMAX(data, order=(1, 1, 1), seasonal_order=(0, 0, 0, 0))\n",
        "model_fit = model.fit(disp=False)\n",
        "\n",
        "yhat = model_fit.predict(len(data), len(data))\n",
        "print(yhat)"
      ],
      "metadata": {
        "colab": {
          "base_uri": "https://localhost:8080/"
        },
        "id": "Z38afAa8L7xo",
        "outputId": "ea1da844-fc8f-4f19-a2be-46032df69085"
      },
      "execution_count": null,
      "outputs": [
        {
          "output_type": "stream",
          "name": "stderr",
          "text": [
            "/usr/local/lib/python3.7/dist-packages/statsmodels/tsa/statespace/sarimax.py:966: UserWarning: Non-stationary starting autoregressive parameters found. Using zeros as starting parameters.\n",
            "  warn('Non-stationary starting autoregressive parameters'\n",
            "/usr/local/lib/python3.7/dist-packages/statsmodels/tsa/statespace/sarimax.py:978: UserWarning: Non-invertible starting MA parameters found. Using zeros as starting parameters.\n",
            "  warn('Non-invertible starting MA parameters found.'\n"
          ]
        },
        {
          "output_type": "stream",
          "name": "stdout",
          "text": [
            "[100.49698795]\n"
          ]
        }
      ]
    },
    {
      "cell_type": "code",
      "source": [
        ""
      ],
      "metadata": {
        "id": "FB1ZV_dVMBQc"
      },
      "execution_count": null,
      "outputs": []
    },
    {
      "cell_type": "code",
      "source": [
        ""
      ],
      "metadata": {
        "id": "c8ogP_eYNue1"
      },
      "execution_count": null,
      "outputs": []
    },
    {
      "cell_type": "code",
      "source": [
        ""
      ],
      "metadata": {
        "id": "SPiHmYMVNuiR"
      },
      "execution_count": null,
      "outputs": []
    },
    {
      "cell_type": "markdown",
      "source": [
        "# Seasonal Autoregressive Integrated Moving-Average mit exogene Regressoren (SARIMAX)"
      ],
      "metadata": {
        "id": "DbeFQEaINvEa"
      }
    },
    {
      "cell_type": "markdown",
      "source": [
        "Exogene Variablen werden auch als Kovariaten bezeichnet und können als parallele Eingabesequenzen betrachtet werden, die Beobachtungen zu denselben Zeitschritten wie die ursprünglichen Reihen aufweisen. \n",
        "\n",
        "Die Methode eignet sich für univariate Zeitreihen mit Trend- und/oder saisonalen Komponenten und exogenen Variablen."
      ],
      "metadata": {
        "id": "SFc8SJYfN6Wa"
      }
    },
    {
      "cell_type": "code",
      "source": [
        "from statsmodels.tsa.statespace.sarimax import SARIMAX\n",
        "from random import random\n",
        "\n",
        "data1 = [x + random() for x in range(1, 100)]\n",
        "data2 = [x + random() for x in range(101, 200)]\n",
        "\n",
        "model = SARIMAX(data1, exog=data2, order=(1, 1, 1), seasonal_order=(0, 0, 0, 0))\n",
        "model_fit = model.fit(disp=False)\n",
        "\n",
        "exog2 = [200 + random()]\n",
        "yhat = model_fit.predict(len(data1), len(data1), exog=[exog2])\n",
        "print(yhat)"
      ],
      "metadata": {
        "colab": {
          "base_uri": "https://localhost:8080/"
        },
        "id": "GapNpkGEN5O6",
        "outputId": "e753f514-e398-4eef-862e-e8b0f5e2962f"
      },
      "execution_count": null,
      "outputs": [
        {
          "output_type": "stream",
          "name": "stderr",
          "text": [
            "/usr/local/lib/python3.7/dist-packages/statsmodels/tools/_testing.py:19: FutureWarning: pandas.util.testing is deprecated. Use the functions in the public API at pandas.testing instead.\n",
            "  import pandas.util.testing as tm\n"
          ]
        },
        {
          "output_type": "stream",
          "name": "stdout",
          "text": [
            "[100.58653558]\n"
          ]
        }
      ]
    },
    {
      "cell_type": "code",
      "source": [
        ""
      ],
      "metadata": {
        "id": "_KlOcWM19kDX"
      },
      "execution_count": null,
      "outputs": []
    },
    {
      "cell_type": "code",
      "source": [
        ""
      ],
      "metadata": {
        "id": "ZDpvvqzE9kGm"
      },
      "execution_count": null,
      "outputs": []
    },
    {
      "cell_type": "code",
      "source": [
        ""
      ],
      "metadata": {
        "id": "o7lecRqH90ri"
      },
      "execution_count": null,
      "outputs": []
    },
    {
      "cell_type": "code",
      "source": [
        ""
      ],
      "metadata": {
        "id": "dRNdNGJB91EQ"
      },
      "execution_count": null,
      "outputs": []
    },
    {
      "cell_type": "markdown",
      "source": [
        "# Vector Autoregression Moving-Average (VARMA)"
      ],
      "metadata": {
        "id": "Y2Z9J_Sj91hy"
      }
    },
    {
      "cell_type": "markdown",
      "source": [
        "Modelliert den nächsten Schritt in jeder Zeitreihe mit Hilfe eines ARMA-Modells. Es ist die Verallgemeinerung von ARMA auf mehrere parallele Zeitreihen, z.B. multivariate Zeitreihen.\n",
        "\n",
        "Die Notation des Modells beinhaltet die Angabe der Reihenfolge der AR(p)- und MA(q)-Modelle als Parameter für eine VARMA-Funktion, z. B. VARMA(p, q). Ein VARMA-Modell kann auch verwendet werden, um VAR- oder VMA-Modelle zu entwickeln.\n",
        "\n",
        "Die Methode eignet sich für multivariate Zeitreihen ohne Trend und saisonale Komponenten."
      ],
      "metadata": {
        "id": "MdTYd4vO96cd"
      }
    },
    {
      "cell_type": "code",
      "source": [
        "from statsmodels.tsa.statespace.varmax import VARMAX\n",
        "from random import random\n",
        "# Konstruierter Datensatz mit Abhängigkeiten\n",
        "data = list()\n",
        "for i in range(100):\n",
        "    v1 = random()\n",
        "    v2 = v1 + random()\n",
        "    row = [v1, v2]\n",
        "    data.append(row)\n",
        "\n",
        "model = VARMAX(data, order=(1, 1))\n",
        "model_fit = model.fit(disp=False)\n",
        "\n",
        "#Prediction\n",
        "yhat = model_fit.forecast()\n",
        "print(yhat)"
      ],
      "metadata": {
        "colab": {
          "base_uri": "https://localhost:8080/"
        },
        "id": "htaJqNZc95tI",
        "outputId": "cda0e5dd-a68f-445f-fc42-207a65ec9cb0"
      },
      "execution_count": null,
      "outputs": [
        {
          "output_type": "stream",
          "name": "stderr",
          "text": [
            "/usr/local/lib/python3.7/dist-packages/statsmodels/tsa/statespace/varmax.py:159: EstimationWarning: Estimation of VARMA(p,q) models is not generically robust, due especially to identification issues.\n",
            "  EstimationWarning)\n"
          ]
        },
        {
          "output_type": "stream",
          "name": "stdout",
          "text": [
            "[[0.45643108 0.99569008]]\n"
          ]
        },
        {
          "output_type": "stream",
          "name": "stderr",
          "text": [
            "/usr/local/lib/python3.7/dist-packages/statsmodels/base/model.py:512: ConvergenceWarning: Maximum Likelihood optimization failed to converge. Check mle_retvals\n",
            "  \"Check mle_retvals\", ConvergenceWarning)\n",
            "/usr/local/lib/python3.7/dist-packages/statsmodels/tsa/statespace/varmax.py:159: EstimationWarning: Estimation of VARMA(p,q) models is not generically robust, due especially to identification issues.\n",
            "  EstimationWarning)\n"
          ]
        }
      ]
    },
    {
      "cell_type": "code",
      "source": [
        ""
      ],
      "metadata": {
        "id": "VxlAhrGz-gh0"
      },
      "execution_count": null,
      "outputs": []
    },
    {
      "cell_type": "code",
      "source": [
        ""
      ],
      "metadata": {
        "id": "fb7wXJAf-hoo"
      },
      "execution_count": null,
      "outputs": []
    },
    {
      "cell_type": "code",
      "source": [
        ""
      ],
      "metadata": {
        "id": "22IuliYI-jir"
      },
      "execution_count": null,
      "outputs": []
    },
    {
      "cell_type": "markdown",
      "source": [
        "# Vector Autoregression Moving-Average mit exogenen Regressoren"
      ],
      "metadata": {
        "id": "xkd7YblF-mq4"
      }
    },
    {
      "cell_type": "markdown",
      "source": [
        "Die Vector Autoregression Moving-Average with Exogenous Regressors (VARMAX) ist eine Erweiterung des VARMA-Modells, die auch die Modellierung exogener Variablen umfasst. Es handelt sich um eine multivariate Version der ARMAX-Methode.\n",
        "\n",
        "Die VARMAX-Methode kann auch zur Modellierung der subsumierten Modelle mit exogenen Variablen, wie VARX und VMAX, verwendet werden.\n",
        "\n",
        "Die Methode ist für multivariate Zeitreihen ohne Trend und saisonale Komponenten mit exogenen Variablen geeignet."
      ],
      "metadata": {
        "id": "InyYRUEK-scj"
      }
    },
    {
      "cell_type": "code",
      "source": [
        "# VARMAX Beispiel\n",
        "from statsmodels.tsa.statespace.varmax import VARMAX\n",
        "from random import random\n",
        "# Konstruierter Datensatz mit Abhängigkeiten\n",
        "data = list()\n",
        "for i in range(100):\n",
        "    v1 = random()\n",
        "    v2 = v1 + random()\n",
        "    row = [v1, v2]\n",
        "    data.append(row)\n",
        "data_exog = [x + random() for x in range(100)]\n",
        "\n",
        "model = VARMAX(data, exog=data_exog, order=(1, 1))\n",
        "model_fit = model.fit(disp=False)\n",
        "\n",
        "#Prediction\n",
        "data_exog2 = [[100]]\n",
        "yhat = model_fit.forecast(exog=data_exog2)\n",
        "print(yhat)"
      ],
      "metadata": {
        "colab": {
          "base_uri": "https://localhost:8080/"
        },
        "id": "uNvYjFll_D1l",
        "outputId": "3ba829db-25e0-464f-9c37-9787b5207773"
      },
      "execution_count": null,
      "outputs": [
        {
          "output_type": "stream",
          "name": "stderr",
          "text": [
            "/usr/local/lib/python3.7/dist-packages/statsmodels/tsa/statespace/varmax.py:159: EstimationWarning: Estimation of VARMA(p,q) models is not generically robust, due especially to identification issues.\n",
            "  EstimationWarning)\n"
          ]
        },
        {
          "output_type": "stream",
          "name": "stdout",
          "text": [
            "[[0.61022365 0.96772192]]\n"
          ]
        },
        {
          "output_type": "stream",
          "name": "stderr",
          "text": [
            "/usr/local/lib/python3.7/dist-packages/statsmodels/tsa/statespace/varmax.py:159: EstimationWarning: Estimation of VARMA(p,q) models is not generically robust, due especially to identification issues.\n",
            "  EstimationWarning)\n"
          ]
        }
      ]
    },
    {
      "cell_type": "code",
      "source": [
        ""
      ],
      "metadata": {
        "id": "ugQ7dXwA_MP_"
      },
      "execution_count": null,
      "outputs": []
    },
    {
      "cell_type": "code",
      "source": [
        ""
      ],
      "metadata": {
        "id": "tlmIwq8L_2Il"
      },
      "execution_count": null,
      "outputs": []
    },
    {
      "cell_type": "code",
      "source": [
        ""
      ],
      "metadata": {
        "id": "FoR8OzZE_2PN"
      },
      "execution_count": null,
      "outputs": []
    },
    {
      "cell_type": "markdown",
      "source": [
        "# Einfachen exponentiellen Glättung"
      ],
      "metadata": {
        "id": "yBeLwVuf_20Y"
      }
    },
    {
      "cell_type": "markdown",
      "source": [
        "Die Methode der einfachen exponentiellen Glättung (Simple Exponential Smoothing, SES) modelliert den nächsten Zeitschritt als exponentiell gewichtete lineare Funktion der Beobachtungen der vorherigen Zeitschritte.\n",
        "\n",
        "Die Methode ist für univariate Zeitreihen ohne Trend und saisonale Komponenten geeignet."
      ],
      "metadata": {
        "id": "CblWgcPxAVhb"
      }
    },
    {
      "cell_type": "code",
      "source": [
        "# SES Beispiel\n",
        "from statsmodels.tsa.holtwinters import SimpleExpSmoothing\n",
        "from random import random\n",
        "\n",
        "#Konstruierter Datensatz\n",
        "data = [x + random() for x in range(1, 100)]\n",
        "\n",
        "#Training\n",
        "model = SimpleExpSmoothing(data)\n",
        "model_fit = model.fit()\n",
        "\n",
        "#Vorhersage\n",
        "yhat = model_fit.predict(len(data), len(data))\n",
        "print(yhat)"
      ],
      "metadata": {
        "colab": {
          "base_uri": "https://localhost:8080/"
        },
        "id": "QACwroztA7ir",
        "outputId": "d8450e97-2be9-40a5-a41b-5f973fd8fb1f"
      },
      "execution_count": null,
      "outputs": [
        {
          "output_type": "stream",
          "name": "stdout",
          "text": [
            "[99.03674465]\n"
          ]
        }
      ]
    },
    {
      "cell_type": "code",
      "source": [
        ""
      ],
      "metadata": {
        "id": "X9GK1u3xBFLD"
      },
      "execution_count": null,
      "outputs": []
    },
    {
      "cell_type": "code",
      "source": [
        ""
      ],
      "metadata": {
        "id": "8_Xs0IHYBFOJ"
      },
      "execution_count": null,
      "outputs": []
    },
    {
      "cell_type": "code",
      "source": [
        ""
      ],
      "metadata": {
        "id": "U8pPuwZKE_3w"
      },
      "execution_count": null,
      "outputs": []
    },
    {
      "cell_type": "markdown",
      "source": [
        "# Erlang "
      ],
      "metadata": {
        "id": "kCo66k5eFAaw"
      }
    },
    {
      "cell_type": "markdown",
      "source": [
        "Die Erlang-Verteilung ist ein Spezialfall der Gamma-Verteilung, wobei der Formparameter a eine ganze Zahl ist. Beachten Sie, dass diese Einschränkung von Erlang nicht erzwungen wird. Es wird jedoch eine Warnung erzeugt, wenn zum ersten Mal ein nicht ganzzahliger Wert für den Formparameter verwendet wird."
      ],
      "metadata": {
        "id": "ZTzxaXl6Ft4K"
      }
    },
    {
      "cell_type": "markdown",
      "source": [
        "Bibliotheken:\n",
        "  - pyworkforce \n",
        "  - Scipy"
      ],
      "metadata": {
        "id": "IS9mXXHtFFlm"
      }
    },
    {
      "cell_type": "code",
      "source": [
        "import numpy as np\n",
        "quantile = np.arange (0.01, 1, 0.1)\n",
        "\n",
        "# Random Variates\n",
        "R = erlang.rvs(a, scale = 2, size = 10)\n",
        "print (\"Random Variates : \\n\", R)\n",
        "\n",
        "# PDF\n",
        "R = erlang.pdf(a, quantile, loc = 0, scale = 1)\n",
        "print (\"\\nProbability Distribution : \\n\", R)\n"
      ],
      "metadata": {
        "colab": {
          "base_uri": "https://localhost:8080/"
        },
        "id": "fCjAtoTgFDw3",
        "outputId": "f6f62585-b98f-4df6-8a0e-efb06e23f077"
      },
      "execution_count": null,
      "outputs": [
        {
          "output_type": "stream",
          "name": "stdout",
          "text": [
            "Random Variates : \n",
            " [0.00372702 0.00882652 1.80331213 2.97406048 1.07940374 1.09432218\n",
            " 0.31165363 0.22607941 0.19432274 3.14191297]\n",
            "\n",
            "Probability Distribution : \n",
            " [0.00915219 0.10039916 0.18845536 0.27011619 0.34299639 0.40548587\n",
            " 0.45667384 0.49625359 0.5244176  0.54175129]\n"
          ]
        },
        {
          "output_type": "stream",
          "name": "stderr",
          "text": [
            "/usr/local/lib/python3.7/dist-packages/scipy/stats/_continuous_distns.py:2807: RuntimeWarning: The shape parameter of the erlang distribution has been given a non-integer value array(0.6).\n",
            "  RuntimeWarning)\n",
            "/usr/local/lib/python3.7/dist-packages/scipy/stats/_continuous_distns.py:2807: RuntimeWarning: The shape parameter of the erlang distribution has been given a non-integer value array([0.01, 0.11, 0.21, 0.31, 0.41, 0.51, 0.61, 0.71, 0.81, 0.91]).\n",
            "  RuntimeWarning)\n"
          ]
        }
      ]
    },
    {
      "cell_type": "code",
      "source": [
        "import numpy as np\n",
        "import matplotlib.pyplot as plt\n",
        "\n",
        "distribution = np.linspace(0, np.minimum(rv.dist.b, 5))\n",
        "print(\"Distribution : \\n\", distribution)\n",
        "\n",
        "plot = plt.plot(distribution, rv.pdf(distribution))"
      ],
      "metadata": {
        "colab": {
          "base_uri": "https://localhost:8080/",
          "height": 473
        },
        "id": "84pTS2IAF5V4",
        "outputId": "e8bd21eb-6c1c-4b15-82a9-08a476c02d04"
      },
      "execution_count": null,
      "outputs": [
        {
          "output_type": "stream",
          "name": "stdout",
          "text": [
            "Distribution : \n",
            " [0.         0.10204082 0.20408163 0.30612245 0.40816327 0.51020408\n",
            " 0.6122449  0.71428571 0.81632653 0.91836735 1.02040816 1.12244898\n",
            " 1.2244898  1.32653061 1.42857143 1.53061224 1.63265306 1.73469388\n",
            " 1.83673469 1.93877551 2.04081633 2.14285714 2.24489796 2.34693878\n",
            " 2.44897959 2.55102041 2.65306122 2.75510204 2.85714286 2.95918367\n",
            " 3.06122449 3.16326531 3.26530612 3.36734694 3.46938776 3.57142857\n",
            " 3.67346939 3.7755102  3.87755102 3.97959184 4.08163265 4.18367347\n",
            " 4.28571429 4.3877551  4.48979592 4.59183673 4.69387755 4.79591837\n",
            " 4.89795918 5.        ]\n"
          ]
        },
        {
          "output_type": "stream",
          "name": "stderr",
          "text": [
            "/usr/local/lib/python3.7/dist-packages/scipy/stats/_continuous_distns.py:2807: RuntimeWarning: The shape parameter of the erlang distribution has been given a non-integer value array(0.6).\n",
            "  RuntimeWarning)\n"
          ]
        },
        {
          "output_type": "display_data",
          "data": {
            "text/plain": [
              "<Figure size 432x288 with 1 Axes>"
            ],
            "image/png": "[encoded data removed]"
          },
          "metadata": {
            "needs_background": "light"
          }
        }
      ]
    },
    {
      "cell_type": "code",
      "source": [
        "#Variierende Positionsargumente \n",
        "import matplotlib.pyplot as plt\n",
        "import numpy as np\n",
        "\n",
        "x = np.linspace(0, 5, 100)\n",
        "\n",
        "# Varying positional arguments\n",
        "y1 = erlang.pdf(x, 2, 6)\n",
        "y2 = erlang.pdf(x, 1, 4)\n",
        "plt.plot(x, y1, \"*\", x, y2, \"r--\")"
      ],
      "metadata": {
        "colab": {
          "base_uri": "https://localhost:8080/",
          "height": 303
        },
        "id": "b3b4f_jcF8a2",
        "outputId": "1961b83c-028b-4f16-82c4-3d0b0af20d38"
      },
      "execution_count": null,
      "outputs": [
        {
          "output_type": "execute_result",
          "data": {
            "text/plain": [
              "[<matplotlib.lines.Line2D at 0x7f72b9f9ad90>,\n",
              " <matplotlib.lines.Line2D at 0x7f72b9ad9050>]"
            ]
          },
          "metadata": {},
          "execution_count": 9
        },
        {
          "output_type": "display_data",
          "data": {
            "text/plain": [
              "<Figure size 432x288 with 1 Axes>"
            ],
            "image/png": "[encoded data removed]"
          },
          "metadata": {
            "needs_background": "light"
          }
        }
      ]
    },
    {
      "cell_type": "code",
      "source": [
        ""
      ],
      "metadata": {
        "id": "_Y5BgVXJGGBI"
      },
      "execution_count": null,
      "outputs": []
    },
    {
      "cell_type": "code",
      "source": [
        ""
      ],
      "metadata": {
        "id": "dZgTVKqRFnRg"
      },
      "execution_count": null,
      "outputs": []
    },
    {
      "cell_type": "code",
      "source": [
        ""
      ],
      "metadata": {
        "id": "534jQ35pFbEH"
      },
      "execution_count": null,
      "outputs": []
    },
    {
      "cell_type": "code",
      "source": [
        ""
      ],
      "metadata": {
        "id": "UO5q4ZAVIKew"
      },
      "execution_count": null,
      "outputs": []
    },
    {
      "cell_type": "markdown",
      "source": [
        "# Polynomiale Regression"
      ],
      "metadata": {
        "id": "PK7OroBnIK4O"
      }
    },
    {
      "cell_type": "markdown",
      "source": [
        "Die polynomiale Regression ist eine Form der linearen Regression, bei der die Beziehung zwischen der unabhängigen Variablen x und der abhängigen Variablen y als Polynom n-ten Grades modelliert wird. Die polynomielle Regression passt eine nichtlineare Beziehung zwischen dem Wert von x und dem entsprechenden bedingten Mittelwert von y an, bezeichnet als E(y |x)\n"
      ],
      "metadata": {
        "id": "7ghyfIJ9IPV0"
      }
    },
    {
      "cell_type": "code",
      "source": [
        ""
      ],
      "metadata": {
        "id": "ODzNBrvWLRYg"
      },
      "execution_count": null,
      "outputs": []
    },
    {
      "cell_type": "code",
      "source": [
        "import numpy as np\n",
        "import matplotlib.pyplot as plt\n",
        "import pandas as pd\n",
        "from sklearn.linear_model import LinearRegression\n",
        "from sklearn.preprocessing import PolynomialFeatures"
      ],
      "metadata": {
        "id": "iQG-qJ_fKu4R"
      },
      "execution_count": null,
      "outputs": []
    },
    {
      "cell_type": "code",
      "source": [
        "datas = pd.read_csv('/content/drive/MyDrive/Forecasting/datensätze/data.csv')\n",
        "\n",
        "X = datas.iloc[:, 1:2].values\n",
        "y = datas.iloc[:, 2].values\n",
        "\n",
        "lin = LinearRegression()\n",
        "\n",
        "lin.fit(X, y)\n",
        "\n",
        "poly = PolynomialFeatures(degree = 4)\n",
        "X_poly = poly.fit_transform(X)\n",
        " \n",
        "poly.fit(X_poly, y)\n",
        "lin2 = LinearRegression()\n",
        "lin2.fit(X_poly, y)\n",
        "\n",
        "# Visualising the Linear Regression results\n",
        "plt.scatter(X, y, color = 'blue')\n",
        " \n",
        "plt.plot(X, lin.predict(X), color = 'red')\n",
        "plt.title('Linear Regression')\n",
        "plt.xlabel('Temperature')\n",
        "plt.ylabel('Pressure')\n",
        " \n",
        "plt.show()\n",
        "\n",
        "\n",
        "# Visualising the Polynomial Regression results\n",
        "plt.scatter(X, y, color = 'blue')\n",
        " \n",
        "plt.plot(X, lin2.predict(poly.fit_transform(X)), color = 'red')\n",
        "plt.title('Polynomial Regression')\n",
        "plt.xlabel('Temperature')\n",
        "plt.ylabel('Pressure')\n",
        " \n",
        "plt.show()\n",
        "\n",
        "\n",
        "# Predicting a new result with Linear Regression after converting predict variable to 2D array\n",
        "pred = 110.0\n",
        "predarray = np.array([[pred]])\n",
        "lin.predict(predarray)\n"
      ],
      "metadata": {
        "colab": {
          "base_uri": "https://localhost:8080/",
          "height": 590
        },
        "id": "koeDr8hPLpVZ",
        "outputId": "84f7386e-b996-4886-84e1-3c203dc250c0"
      },
      "execution_count": null,
      "outputs": [
        {
          "output_type": "display_data",
          "data": {
            "text/plain": [
              "<Figure size 432x288 with 1 Axes>"
            ],
            "image/png": "[encoded data removed]"
          },
          "metadata": {
            "needs_background": "light"
          }
        },
        {
          "output_type": "display_data",
          "data": {
            "text/plain": [
              "<Figure size 432x288 with 1 Axes>"
            ],
            "image/png": "[encoded data removed]"
          },
          "metadata": {
            "needs_background": "light"
          }
        },
        {
          "output_type": "execute_result",
          "data": {
            "text/plain": [
              "array([0.20675333])"
            ]
          },
          "metadata": {},
          "execution_count": 16
        }
      ]
    },
    {
      "cell_type": "code",
      "source": [
        "# Predicting a new result with Polynomial Regression after converting predict variable to 2D array\n",
        "pred2 = 110.0\n",
        "pred2array = np.array([[pred2]])\n",
        "lin2.predict(poly.fit_transform(pred2array))"
      ],
      "metadata": {
        "colab": {
          "base_uri": "https://localhost:8080/"
        },
        "id": "-ESX2TjJMBr6",
        "outputId": "8267466e-610b-4877-8c48-f4f553cc9db7"
      },
      "execution_count": null,
      "outputs": [
        {
          "output_type": "execute_result",
          "data": {
            "text/plain": [
              "array([0.43295877])"
            ]
          },
          "metadata": {},
          "execution_count": 17
        }
      ]
    },
    {
      "cell_type": "code",
      "source": [
        ""
      ],
      "metadata": {
        "id": "D1llU6T7MEIU"
      },
      "execution_count": null,
      "outputs": []
    },
    {
      "cell_type": "code",
      "source": [
        ""
      ],
      "metadata": {
        "id": "HTCXPWdfL-mv"
      },
      "execution_count": null,
      "outputs": []
    },
    {
      "cell_type": "code",
      "source": [
        ""
      ],
      "metadata": {
        "id": "_d-o70dLL6lg"
      },
      "execution_count": null,
      "outputs": []
    },
    {
      "cell_type": "code",
      "source": [
        ""
      ],
      "metadata": {
        "id": "rhUVsVKfLcoj"
      },
      "execution_count": null,
      "outputs": []
    },
    {
      "cell_type": "markdown",
      "source": [
        "# Gompertz Funktion"
      ],
      "metadata": {
        "id": "5FuT1bb_S3vk"
      }
    },
    {
      "cell_type": "markdown",
      "source": [
        "Die nach ihrem Entdecker, dem britischen Mathematiker Benjamin Gompertz, benannte Gompertz-Funktion ist eine asymmetrische Sättigungsfunktion (Sigmoidfunktion), die sich im Gegensatz zur logistischen Funktion dadurch auszeichnet, dass sie sich ihrer rechten bzw. oberen Asymptote gemächlicher annähert als ihrer linken bzw. unteren, der Graph ihrer ersten Ableitung also ausgehend von deren Maximum bei ln(b)/c nach rechts hin langsamer abfällt als nach links"
      ],
      "metadata": {
        "id": "3IC0mTRyS663"
      }
    },
    {
      "cell_type": "markdown",
      "source": [
        "Parameters :\n",
        "\n",
        "- q : lower and upper tail probability\n",
        "\n",
        "- x : quantiles\n",
        "\n",
        "- loc : [optional]location parameter. Default = 0\n",
        "\n",
        "- scale : [optional]scale parameter. Default = 1\n",
        "\n",
        "- size : [tuple of ints, optional] shape or random variates.\n",
        "\n",
        "- moments : [optional] composed of letters [‘mvsk’]; ‘m’ = mean, ‘v’ = variance, ‘s’ = Fisher’s skew and ‘k’ = Fisher’s kurtosis. (default = ‘mv’).\n",
        "\n",
        "Results : Gompertz (or truncated Gumbel) continuous random variable"
      ],
      "metadata": {
        "id": "OTylcUwHa_eQ"
      }
    },
    {
      "cell_type": "code",
      "source": [
        "from scipy.stats import gompertz\n",
        "import matplotlib.pyplot as plt\n",
        "\n",
        "fig, ax = plt.subplots(1, 1)\n",
        "c = 0.947\n",
        "mean, var, skew, kurt = gompertz.stats(c, moments='mvsk')\n",
        "\n",
        "x = np.linspace(gompertz.ppf(0.01, c),\n",
        "                gompertz.ppf(0.99, c), 100)\n",
        "ax.plot(x, gompertz.pdf(x, c),\n",
        "       'r-', lw=5, alpha=0.6, label='gompertz pdf')\n",
        "\n",
        "rv = gompertz(c)\n",
        "ax.plot(x, rv.pdf(x), 'k-', lw=2, label='frozen pdf')\n",
        "\n",
        "vals = gompertz.ppf([0.001, 0.5, 0.999], c)\n",
        "\n",
        "\n",
        "r = gompertz.rvs(c, size=1000)\n",
        "\n",
        "ax.hist(r, density=True, histtype='stepfilled', alpha=0.2)\n",
        "ax.legend(loc='best', frameon=False)\n",
        "plt.show()"
      ],
      "metadata": {
        "colab": {
          "base_uri": "https://localhost:8080/",
          "height": 265
        },
        "id": "H35Z66HuS6D8",
        "outputId": "bb8cee75-2330-4e43-b2c3-0fe5b3d25474"
      },
      "execution_count": null,
      "outputs": [
        {
          "output_type": "display_data",
          "data": {
            "text/plain": [
              "<Figure size 432x288 with 1 Axes>"
            ],
            "image/png": "[encoded data removed]"
          },
          "metadata": {
            "needs_background": "light"
          }
        }
      ]
    },
    {
      "cell_type": "code",
      "source": [
        ""
      ],
      "metadata": {
        "id": "7L6nER8GasKV"
      },
      "execution_count": null,
      "outputs": []
    }
  ]
}